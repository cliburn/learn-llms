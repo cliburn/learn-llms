{
 "cells": [
  {
   "cell_type": "markdown",
   "id": "1135990b-1281-4fa8-9e4e-40cf172a2351",
   "metadata": {},
   "source": [
    "# Text to image\n",
    "\n",
    "- [Tutorial](https://medium.com/latinxinai/text-to-image-with-stable-diffusion-4df16da2cfd5)"
   ]
  },
  {
   "cell_type": "code",
   "execution_count": null,
   "id": "3d0dad74-3dcd-477a-a5b4-fdfbde41595f",
   "metadata": {},
   "outputs": [],
   "source": [
    "import torch\n",
    "from diffusers import StableDiffusionPipeline\n",
    "from PIL import Image"
   ]
  },
  {
   "cell_type": "code",
   "execution_count": null,
   "id": "fb4b6dfc-e360-4c1b-88c2-083d95e4be77",
   "metadata": {},
   "outputs": [],
   "source": [
    "pipeline = StableDiffusionPipeline.from_pretrained(\n",
    "    \"CompVis/stable-diffusion-v1-4\",\n",
    "    torch_dtype=torch.float16\n",
    ")"
   ]
  },
  {
   "cell_type": "markdown",
   "id": "17e4fa47-e13a-4d64-82f7-d48e555380e9",
   "metadata": {},
   "source": [
    "# Defining function for the creation of a grid of images\n",
    "def image_grid(imgs, rows, cols):\n",
    "    assert len(imgs) == rows*cols\n",
    "    \n",
    "    w, h = imgs[0].size\n",
    "    grid = Image.new('RGB', size = (cols*w,\n",
    "                                   rows * w))\n",
    "    grid_w, grid_h = grid.size\n",
    "    \n",
    "    for i, img in enumerate(imgs):\n",
    "        grid.paste(img, box = (i%cols*w, i // cols*h))\n",
    "    return grid"
   ]
  },
  {
   "cell_type": "code",
   "execution_count": null,
   "id": "5b6377e4-44dd-488d-856b-a5cd8776d9c9",
   "metadata": {},
   "outputs": [],
   "source": [
    "n_images = 6 # Let's generate 6 images based on the prompt below\n",
    "prompt = ['Sunset on a beach'] * n_images\n",
    "\n",
    "images = pipeline(prompt).images\n",
    "\n",
    "grid = image_grid(images, rows=2, cols = 3)\n",
    "grid"
   ]
  },
  {
   "cell_type": "code",
   "execution_count": null,
   "id": "cca74a7a-782f-444e-b55e-89451a005654",
   "metadata": {},
   "outputs": [],
   "source": [
    "n_images = 6\n",
    "prompt = ['Portrait of Napoleon Bonaparte'] * n_images\n",
    "\n",
    "images = pipeline(prompt).images\n",
    "\n",
    "grid = image_grid(images, rows=2, cols = 3)\n",
    "grid"
   ]
  },
  {
   "cell_type": "code",
   "execution_count": null,
   "id": "61896116-33b0-4b48-8d1a-4c394073c901",
   "metadata": {},
   "outputs": [],
   "source": [
    "n_images = 6\n",
    "prompt = ['Skyline of a cyberpunk megalopolis'] * n_images\n",
    "\n",
    "images = pipeline(prompt).images\n",
    "\n",
    "grid = image_grid(images, rows=2, cols = 3)\n",
    "grid"
   ]
  },
  {
   "cell_type": "code",
   "execution_count": null,
   "id": "1e5e8a95-6ed7-4fb1-b1e1-f2afcba2c5d5",
   "metadata": {},
   "outputs": [],
   "source": [
    "n_images = 6\n",
    "prompt = ['Painting of a woman in the style of Van Gogh'] * n_images\n",
    "\n",
    "images = pipeline(prompt).images\n",
    "\n",
    "grid = image_grid(images, rows=2, cols = 3)\n",
    "grid"
   ]
  },
  {
   "cell_type": "code",
   "execution_count": null,
   "id": "07714b05-36fd-42c0-8a6e-f31314c57a58",
   "metadata": {},
   "outputs": [],
   "source": [
    "n_images = 6\n",
    "prompt = ['Picture of an astronaut in space'] * n_images\n",
    "\n",
    "images = pipeline(prompt).images\n",
    "\n",
    "grid = image_grid(images, rows=2, cols = 3)\n",
    "grid"
   ]
  },
  {
   "cell_type": "code",
   "execution_count": null,
   "id": "75f748dc-fc3f-41d5-9a03-2b053004d482",
   "metadata": {},
   "outputs": [],
   "source": [
    "n_images = 6\n",
    "prompt = ['Renaissance marble bust sculpture'] * n_images\n",
    "\n",
    "images = pipeline(prompt).images\n",
    "\n",
    "grid = image_grid(images, rows=2, cols = 3)\n",
    "grid"
   ]
  }
 ],
 "metadata": {
  "kernelspec": {
   "display_name": "py310",
   "language": "python",
   "name": "py310"
  },
  "language_info": {
   "codemirror_mode": {
    "name": "ipython",
    "version": 3
   },
   "file_extension": ".py",
   "mimetype": "text/x-python",
   "name": "python",
   "nbconvert_exporter": "python",
   "pygments_lexer": "ipython3",
   "version": "3.10.12"
  }
 },
 "nbformat": 4,
 "nbformat_minor": 5
}
