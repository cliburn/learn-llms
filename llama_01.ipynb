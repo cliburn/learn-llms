{
 "cells": [
  {
   "cell_type": "code",
   "execution_count": 1,
   "id": "307c749a-53a4-4325-8236-984d1c53c996",
   "metadata": {},
   "outputs": [],
   "source": [
    "from llama_cpp import Llama"
   ]
  },
  {
   "cell_type": "code",
   "execution_count": 2,
   "id": "ada6a555-7553-4c84-8a68-4e0a54266cd4",
   "metadata": {},
   "outputs": [
    {
     "name": "stdout",
     "output_type": "stream",
     "text": [
      "CPU times: user 2min 10s, sys: 3.43 s, total: 2min 14s\n",
      "Wall time: 31.2 s\n"
     ]
    }
   ],
   "source": [
    "%%time\n",
    "%%capture\n",
    "\n",
    "llm = Llama(\n",
    "  model_path=\"./mistral-7b-instruct-v0.2.Q4_K_M.gguf\",  \n",
    "  n_ctx=32768,  \n",
    "  n_threads=8,  \n",
    "  n_gpu_layers=32,\n",
    ")\n",
    "\n",
    "# Simple inference example\n",
    "output = llm(\n",
    "  \"<s>[INST] {prompt} [/INST]\",\n",
    "  max_tokens=512, \n",
    "  stop=[\"<|end|>\"],  \n",
    "  echo=True       \n",
    ")\n",
    "\n",
    "# Chat Completion API\n",
    "llm = Llama(model_path=\"./mistral-7b-instruct-v0.2.Q4_K_M.gguf\", chat_format=\"llama-2\") \n",
    "cc = llm.create_chat_completion(\n",
    "    messages = [\n",
    "        {\n",
    "            \"role\": \"system\", \n",
    "            \"content\": \"You are a story writing assistant.\"\n",
    "        },\n",
    "        {\n",
    "            \"role\": \"user\",\n",
    "            \"content\": \"Write a story about llamas.\"\n",
    "        }\n",
    "    ]\n",
    ")"
   ]
  },
  {
   "cell_type": "code",
   "execution_count": 3,
   "id": "5722fedc-4885-4a1c-b0ea-597474af06cc",
   "metadata": {},
   "outputs": [
    {
     "name": "stdout",
     "output_type": "stream",
     "text": [
      " Title: The Magical Herd of Llamas\n",
      "\n",
      "Once upon a time, in the heart of the Andes Mountains, there was a hidden valley known as the Valley of Enchantment. This magical place was home to an extraordinary herd of llamas, each one more magnificent than the last. These were no ordinary llamas; they were enchanted beings with the power to bring joy and wonder to all who encountered them.\n",
      "\n",
      "The herd was led by an ancient and wise llama named Llama Lloqe. He was a majestic creature with a thick, glossy coat that shone like gold in the sunlight. His eyes held the wisdom of ages, and his voice carried the melodic tones of the mountains themselves. Llama Lloqe was loved and respected by all his fellow creatures in the valley.\n",
      "\n",
      "One day, as the sun began to rise over the mountains, Llama Lloqe gathered his herd together and led them to the edge of the valley. They stood there, looking out at the vast expanse before them, their eyes filled with curiosity and excitement. For they had sensed that something magical was about to happen.\n",
      "\n",
      "As they watched, the first rays of sunlight touched the dew-kissed grasses, and the landscape began to transform. Flowers bloomed before their eyes, their petals unfurling in a riot of colors. Birds sang sweetly from the treetops, and the air was filled with the scent of fresh blossoms and the sound of rushing water.\n",
      "\n",
      "The enchanted llamas began to dance, their hooves tapping out a rhythm that resonated through the valley. They leapt and pranced, their coats shimmering like jewels in the sunlight. They played and frolicked, their laughter echoing through the mountains.\n",
      "\n",
      "Word of the magical herd of llamas soon spread far and wide, and people from all corners of the world came to witness their enchanting display. They marveled at the beauty and grace of these magical creatures, and many returned home with tales of their adventures in the Valley of Enchantment.\n",
      "\n",
      "The enchanted llamas continued to bring joy and wonder to all who visited them, and their\n"
     ]
    }
   ],
   "source": [
    "print(cc['choices'][0]['message']['content'])"
   ]
  },
  {
   "cell_type": "code",
   "execution_count": null,
   "id": "1542de00-3d7a-4539-99d3-125e79c40715",
   "metadata": {},
   "outputs": [],
   "source": []
  }
 ],
 "metadata": {
  "kernelspec": {
   "display_name": "py310",
   "language": "python",
   "name": "py310"
  },
  "language_info": {
   "codemirror_mode": {
    "name": "ipython",
    "version": 3
   },
   "file_extension": ".py",
   "mimetype": "text/x-python",
   "name": "python",
   "nbconvert_exporter": "python",
   "pygments_lexer": "ipython3",
   "version": "3.10.12"
  }
 },
 "nbformat": 4,
 "nbformat_minor": 5
}
