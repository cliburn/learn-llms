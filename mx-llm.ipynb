{
 "cells": [
  {
   "cell_type": "markdown",
   "id": "f89f8d95-d617-4539-a507-b837013dd37c",
   "metadata": {},
   "source": [
    "# Deploying LLMs locally with Apple’s MLX framework "
   ]
  },
  {
   "cell_type": "code",
   "execution_count": null,
   "id": "46ed4479-46ca-448b-8c7d-35091f4ca9a8",
   "metadata": {},
   "outputs": [],
   "source": [
    "from mlx_lm import load, generate\n",
    "\n",
    "model, tokenizer = load(\"mistralai/Mistral-7B-Instruct-v0.2\")\n",
    "prompt = \"\"\"<s>[INST] Hello world! [/INST]\"\"\"\n",
    "response = generate(model, tokenizer, prompt=prompt)\n",
    "\n",
    "print(response)"
   ]
  },
  {
   "cell_type": "code",
   "execution_count": null,
   "id": "41ee748d-d134-4b46-bd20-9170fe86f8d4",
   "metadata": {},
   "outputs": [],
   "source": []
  }
 ],
 "metadata": {
  "kernelspec": {
   "display_name": "py310",
   "language": "python",
   "name": "py310"
  },
  "language_info": {
   "codemirror_mode": {
    "name": "ipython",
    "version": 3
   },
   "file_extension": ".py",
   "mimetype": "text/x-python",
   "name": "python",
   "nbconvert_exporter": "python",
   "pygments_lexer": "ipython3",
   "version": "3.10.12"
  }
 },
 "nbformat": 4,
 "nbformat_minor": 5
}
